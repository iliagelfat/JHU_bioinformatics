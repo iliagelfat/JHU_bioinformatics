{
 "cells": [
  {
   "cell_type": "code",
   "execution_count": 10,
   "metadata": {},
   "outputs": [
    {
     "name": "stderr",
     "output_type": "stream",
     "text": [
      "  % Total    % Received % Xferd  Average Speed   Time    Time     Time  Current\n",
      "                                 Dload  Upload   Total   Spent    Left  Speed\n",
      "\n",
      "  0     0    0     0    0     0      0      0 --:--:-- --:--:-- --:--:--     0\n",
      "  7  248k    7 19797    0     0  26934      0  0:00:09 --:--:--  0:00:09 26934\n",
      "100  248k  100  248k    0     0   274k      0 --:--:-- --:--:-- --:--:--  274k\n"
     ]
    }
   ],
   "source": [
    "!curl http://d28rh4a8wq0iu5.cloudfront.net/ads1/data/ERR266411_1.first1000.fastq --output phix_reads.fastq"
   ]
  },
  {
   "cell_type": "code",
   "execution_count": 31,
   "metadata": {},
   "outputs": [],
   "source": [
    "import numpy as np\n",
    "import collections\n",
    "import matplotlib.pyplot as plt\n",
    "from tqdm import tqdm"
   ]
  },
  {
   "cell_type": "code",
   "execution_count": 2,
   "metadata": {},
   "outputs": [],
   "source": [
    "COMPLEMENT = {'A': 'T', 'C': 'G', 'G':'C', 'T':'A', 'N':'N'}"
   ]
  },
  {
   "cell_type": "code",
   "execution_count": 13,
   "metadata": {},
   "outputs": [],
   "source": [
    "def read_genome(filename):\n",
    "    g = ''\n",
    "    with open(filename) as f: \n",
    "        for line in f:\n",
    "            if line[0] == '>':\n",
    "                continue\n",
    "            g += line.rstrip()\n",
    "    return g"
   ]
  },
  {
   "cell_type": "code",
   "execution_count": 17,
   "metadata": {},
   "outputs": [],
   "source": [
    "def read_fastq(filename):\n",
    "    seqs = []\n",
    "    quals = []\n",
    "    with open(filename) as f:\n",
    "        fl = list(f)\n",
    "        for i in range(len(fl)//4): \n",
    "            seqs.append(fl[4*i+1].rstrip())\n",
    "            quals.append(fl[4*i+3].rstrip())\n",
    "    return seqs, quals"
   ]
  },
  {
   "cell_type": "code",
   "execution_count": 5,
   "metadata": {},
   "outputs": [],
   "source": [
    "def rc(s):\n",
    "    t = ''\n",
    "    for n in s:\n",
    "        t = COMPLEMENT[n] + t\n",
    "    return t"
   ]
  },
  {
   "cell_type": "code",
   "execution_count": 20,
   "metadata": {},
   "outputs": [],
   "source": [
    "def naive(p, t, upto=-1):\n",
    "    occurrences = []\n",
    "    if upto > 0 and upto < len(p):\n",
    "        p = p[:upto]\n",
    "    for i in range(len(t) - len(p) + 1):\n",
    "        if t[i:i+len(p)] == p:\n",
    "            occurrences.append(i)\n",
    "        elif t[i:i+len(p)] == rc(p):\n",
    "            occurrences.append(i)\n",
    "    return occurrences"
   ]
  },
  {
   "cell_type": "code",
   "execution_count": 32,
   "metadata": {},
   "outputs": [],
   "source": [
    "def count_matching(ref, reads, upto=-1):\n",
    "    match = 0\n",
    "    for read in tqdm(reads):\n",
    "        occ = naive(read, ref, upto)\n",
    "        if len(occ) > 0:\n",
    "            match += 1\n",
    "    return match"
   ]
  },
  {
   "cell_type": "code",
   "execution_count": 33,
   "metadata": {},
   "outputs": [
    {
     "name": "stderr",
     "output_type": "stream",
     "text": [
      "100%|██████████████████████████████████████████████████████████████████████████████| 1000/1000 [00:20<00:00, 48.37it/s]\n"
     ]
    },
    {
     "name": "stdout",
     "output_type": "stream",
     "text": [
      "932\n"
     ]
    }
   ],
   "source": [
    "genome = read_genome('phix.fa')\n",
    "reads, _ = read_fastq('phix_reads.fastq')\n",
    "\n",
    "matching = count_matching(genome, reads, 30)\n",
    "print(matching)"
   ]
  }
 ],
 "metadata": {
  "kernelspec": {
   "display_name": "Python 3",
   "language": "python",
   "name": "python3"
  },
  "language_info": {
   "codemirror_mode": {
    "name": "ipython",
    "version": 3
   },
   "file_extension": ".py",
   "mimetype": "text/x-python",
   "name": "python",
   "nbconvert_exporter": "python",
   "pygments_lexer": "ipython3",
   "version": "3.7.1"
  }
 },
 "nbformat": 4,
 "nbformat_minor": 2
}
